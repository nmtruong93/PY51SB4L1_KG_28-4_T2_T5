{
 "cells": [
  {
   "cell_type": "code",
   "execution_count": 1,
   "metadata": {},
   "outputs": [
    {
     "name": "stdout",
     "output_type": "stream",
     "text": [
      "Hello world!\n"
     ]
    }
   ],
   "source": [
    "print('Hello world!')"
   ]
  },
  {
   "cell_type": "code",
   "execution_count": 2,
   "metadata": {},
   "outputs": [
    {
     "name": "stdout",
     "output_type": "stream",
     "text": [
      "The Zen of Python, by Tim Peters\n",
      "\n",
      "Beautiful is better than ugly.\n",
      "Explicit is better than implicit.\n",
      "Simple is better than complex.\n",
      "Complex is better than complicated.\n",
      "Flat is better than nested.\n",
      "Sparse is better than dense.\n",
      "Readability counts.\n",
      "Special cases aren't special enough to break the rules.\n",
      "Although practicality beats purity.\n",
      "Errors should never pass silently.\n",
      "Unless explicitly silenced.\n",
      "In the face of ambiguity, refuse the temptation to guess.\n",
      "There should be one-- and preferably only one --obvious way to do it.\n",
      "Although that way may not be obvious at first unless you're Dutch.\n",
      "Now is better than never.\n",
      "Although never is often better than *right* now.\n",
      "If the implementation is hard to explain, it's a bad idea.\n",
      "If the implementation is easy to explain, it may be a good idea.\n",
      "Namespaces are one honking great idea -- let's do more of those!\n"
     ]
    }
   ],
   "source": [
    "import this"
   ]
  },
  {
   "cell_type": "markdown",
   "metadata": {},
   "source": [
    "### 1. Operations and operators"
   ]
  },
  {
   "cell_type": "code",
   "execution_count": 3,
   "metadata": {},
   "outputs": [
    {
     "data": {
      "text/plain": [
       "2"
      ]
     },
     "execution_count": 3,
     "metadata": {},
     "output_type": "execute_result"
    }
   ],
   "source": [
    "1+1"
   ]
  },
  {
   "cell_type": "code",
   "execution_count": 4,
   "metadata": {},
   "outputs": [
    {
     "data": {
      "text/plain": [
       "0"
      ]
     },
     "execution_count": 4,
     "metadata": {},
     "output_type": "execute_result"
    }
   ],
   "source": [
    "1-1"
   ]
  },
  {
   "cell_type": "code",
   "execution_count": 5,
   "metadata": {},
   "outputs": [
    {
     "data": {
      "text/plain": [
       "0.5"
      ]
     },
     "execution_count": 5,
     "metadata": {},
     "output_type": "execute_result"
    }
   ],
   "source": [
    "1/2"
   ]
  },
  {
   "cell_type": "code",
   "execution_count": 6,
   "metadata": {},
   "outputs": [
    {
     "data": {
      "text/plain": [
       "6"
      ]
     },
     "execution_count": 6,
     "metadata": {},
     "output_type": "execute_result"
    }
   ],
   "source": [
    "2*3"
   ]
  },
  {
   "cell_type": "code",
   "execution_count": 7,
   "metadata": {},
   "outputs": [
    {
     "data": {
      "text/plain": [
       "8"
      ]
     },
     "execution_count": 7,
     "metadata": {},
     "output_type": "execute_result"
    }
   ],
   "source": [
    "2**3"
   ]
  },
  {
   "cell_type": "code",
   "execution_count": 8,
   "metadata": {},
   "outputs": [
    {
     "data": {
      "text/plain": [
       "1"
      ]
     },
     "execution_count": 8,
     "metadata": {},
     "output_type": "execute_result"
    }
   ],
   "source": [
    "6%5"
   ]
  },
  {
   "cell_type": "code",
   "execution_count": 9,
   "metadata": {},
   "outputs": [
    {
     "data": {
      "text/plain": [
       "1"
      ]
     },
     "execution_count": 9,
     "metadata": {},
     "output_type": "execute_result"
    }
   ],
   "source": [
    "5%2"
   ]
  },
  {
   "cell_type": "code",
   "execution_count": 10,
   "metadata": {},
   "outputs": [
    {
     "data": {
      "text/plain": [
       "2"
      ]
     },
     "execution_count": 10,
     "metadata": {},
     "output_type": "execute_result"
    }
   ],
   "source": [
    "5//2"
   ]
  },
  {
   "cell_type": "markdown",
   "metadata": {},
   "source": [
    "### 2. Data type and data structure"
   ]
  },
  {
   "cell_type": "markdown",
   "metadata": {},
   "source": [
    "#### 2.1. Data type"
   ]
  },
  {
   "cell_type": "markdown",
   "metadata": {},
   "source": [
    "*Italic*"
   ]
  },
  {
   "cell_type": "markdown",
   "metadata": {},
   "source": [
    "**Bold**"
   ]
  },
  {
   "cell_type": "markdown",
   "metadata": {},
   "source": [
    "# Heading 1"
   ]
  },
  {
   "cell_type": "markdown",
   "metadata": {},
   "source": [
    "## Heading 2"
   ]
  },
  {
   "cell_type": "markdown",
   "metadata": {},
   "source": [
    "- List 1\n",
    "- List 2\n",
    "- List 3"
   ]
  },
  {
   "cell_type": "markdown",
   "metadata": {},
   "source": [
    "```\n",
    "I go to \n",
    "school\n",
    "```"
   ]
  },
  {
   "cell_type": "markdown",
   "metadata": {},
   "source": [
    "- Numeric: integer, float\n",
    "- String: \"\", ''\n",
    "- Complex: 1 + 2j\n",
    "- Boolean: True/ False\n",
    "- None: "
   ]
  },
  {
   "cell_type": "code",
   "execution_count": 1,
   "metadata": {},
   "outputs": [
    {
     "data": {
      "text/plain": [
       "int"
      ]
     },
     "execution_count": 1,
     "metadata": {},
     "output_type": "execute_result"
    }
   ],
   "source": [
    "type(1)"
   ]
  },
  {
   "cell_type": "code",
   "execution_count": 2,
   "metadata": {},
   "outputs": [
    {
     "data": {
      "text/plain": [
       "float"
      ]
     },
     "execution_count": 2,
     "metadata": {},
     "output_type": "execute_result"
    }
   ],
   "source": [
    "type(1.0)"
   ]
  },
  {
   "cell_type": "code",
   "execution_count": 3,
   "metadata": {},
   "outputs": [
    {
     "data": {
      "text/plain": [
       "str"
      ]
     },
     "execution_count": 3,
     "metadata": {},
     "output_type": "execute_result"
    }
   ],
   "source": [
    "type('abc')"
   ]
  },
  {
   "cell_type": "code",
   "execution_count": 4,
   "metadata": {},
   "outputs": [
    {
     "data": {
      "text/plain": [
       "str"
      ]
     },
     "execution_count": 4,
     "metadata": {},
     "output_type": "execute_result"
    }
   ],
   "source": [
    "type(\"abc\")"
   ]
  },
  {
   "cell_type": "code",
   "execution_count": 5,
   "metadata": {},
   "outputs": [
    {
     "data": {
      "text/plain": [
       "complex"
      ]
     },
     "execution_count": 5,
     "metadata": {},
     "output_type": "execute_result"
    }
   ],
   "source": [
    "type(1+2j)"
   ]
  },
  {
   "cell_type": "code",
   "execution_count": 6,
   "metadata": {},
   "outputs": [
    {
     "data": {
      "text/plain": [
       "NoneType"
      ]
     },
     "execution_count": 6,
     "metadata": {},
     "output_type": "execute_result"
    }
   ],
   "source": [
    "type(None)"
   ]
  },
  {
   "cell_type": "markdown",
   "metadata": {},
   "source": [
    "##### 2.2.1. Variable"
   ]
  },
  {
   "cell_type": "code",
   "execution_count": 7,
   "metadata": {},
   "outputs": [],
   "source": [
    "a = 1"
   ]
  },
  {
   "cell_type": "code",
   "execution_count": 8,
   "metadata": {},
   "outputs": [
    {
     "data": {
      "text/plain": [
       "1"
      ]
     },
     "execution_count": 8,
     "metadata": {},
     "output_type": "execute_result"
    }
   ],
   "source": [
    "a"
   ]
  },
  {
   "cell_type": "code",
   "execution_count": 9,
   "metadata": {},
   "outputs": [
    {
     "data": {
      "text/plain": [
       "int"
      ]
     },
     "execution_count": 9,
     "metadata": {},
     "output_type": "execute_result"
    }
   ],
   "source": [
    "type(a)"
   ]
  },
  {
   "cell_type": "code",
   "execution_count": 11,
   "metadata": {},
   "outputs": [
    {
     "data": {
      "text/plain": [
       "(2.0, 1)"
      ]
     },
     "execution_count": 11,
     "metadata": {},
     "output_type": "execute_result"
    }
   ],
   "source": [
    "b = 2.0\n",
    "b, a"
   ]
  },
  {
   "cell_type": "code",
   "execution_count": 12,
   "metadata": {},
   "outputs": [
    {
     "data": {
      "text/plain": [
       "float"
      ]
     },
     "execution_count": 12,
     "metadata": {},
     "output_type": "execute_result"
    }
   ],
   "source": [
    "type(b)"
   ]
  },
  {
   "cell_type": "code",
   "execution_count": 14,
   "metadata": {},
   "outputs": [],
   "source": [
    "a = 3.146438594385\n",
    "b = 4.436734256456"
   ]
  },
  {
   "cell_type": "code",
   "execution_count": 17,
   "metadata": {},
   "outputs": [],
   "source": [
    "string_school_bla_bal = \"I go to school\""
   ]
  },
  {
   "cell_type": "code",
   "execution_count": 18,
   "metadata": {},
   "outputs": [
    {
     "data": {
      "text/plain": [
       "str"
      ]
     },
     "execution_count": 18,
     "metadata": {},
     "output_type": "execute_result"
    }
   ],
   "source": [
    "type(string_school_bla_bal)"
   ]
  },
  {
   "cell_type": "code",
   "execution_count": 19,
   "metadata": {},
   "outputs": [
    {
     "data": {
      "text/plain": [
       "bool"
      ]
     },
     "execution_count": 19,
     "metadata": {},
     "output_type": "execute_result"
    }
   ],
   "source": [
    "type(False)"
   ]
  },
  {
   "cell_type": "code",
   "execution_count": 20,
   "metadata": {},
   "outputs": [
    {
     "data": {
      "text/plain": [
       "bool"
      ]
     },
     "execution_count": 20,
     "metadata": {},
     "output_type": "execute_result"
    }
   ],
   "source": [
    "type(True)"
   ]
  },
  {
   "cell_type": "code",
   "execution_count": 23,
   "metadata": {},
   "outputs": [
    {
     "data": {
      "text/plain": [
       "'Truong Nguyen'"
      ]
     },
     "execution_count": 23,
     "metadata": {},
     "output_type": "execute_result"
    }
   ],
   "source": [
    "\"Truong \" + \"Nguyen\""
   ]
  },
  {
   "cell_type": "code",
   "execution_count": 22,
   "metadata": {},
   "outputs": [
    {
     "data": {
      "text/plain": [
       "False"
      ]
     },
     "execution_count": 22,
     "metadata": {},
     "output_type": "execute_result"
    }
   ],
   "source": [
    "\"\" == \" \""
   ]
  },
  {
   "cell_type": "code",
   "execution_count": 24,
   "metadata": {},
   "outputs": [
    {
     "ename": "TypeError",
     "evalue": "unsupported operand type(s) for -: 'str' and 'str'",
     "output_type": "error",
     "traceback": [
      "\u001b[0;31m---------------------------------------------------------------------------\u001b[0m",
      "\u001b[0;31mTypeError\u001b[0m                                 Traceback (most recent call last)",
      "\u001b[0;32m<ipython-input-24-596f78120347>\u001b[0m in \u001b[0;36m<module>\u001b[0;34m\u001b[0m\n\u001b[0;32m----> 1\u001b[0;31m \u001b[0;34m\"Truong \"\u001b[0m \u001b[0;34m-\u001b[0m \u001b[0;34m\"Nguyen\"\u001b[0m\u001b[0;34m\u001b[0m\u001b[0;34m\u001b[0m\u001b[0m\n\u001b[0m",
      "\u001b[0;31mTypeError\u001b[0m: unsupported operand type(s) for -: 'str' and 'str'"
     ]
    }
   ],
   "source": [
    "\"Truong \" - \"Nguyen\""
   ]
  },
  {
   "cell_type": "code",
   "execution_count": 26,
   "metadata": {},
   "outputs": [
    {
     "ename": "TypeError",
     "evalue": "can't multiply sequence by non-int of type 'str'",
     "output_type": "error",
     "traceback": [
      "\u001b[0;31m---------------------------------------------------------------------------\u001b[0m",
      "\u001b[0;31mTypeError\u001b[0m                                 Traceback (most recent call last)",
      "\u001b[0;32m<ipython-input-26-0d85f5fc8ce4>\u001b[0m in \u001b[0;36m<module>\u001b[0;34m\u001b[0m\n\u001b[0;32m----> 1\u001b[0;31m \u001b[0;34m'Truong'\u001b[0m \u001b[0;34m*\u001b[0m \u001b[0;34m\"Manh\"\u001b[0m\u001b[0;34m\u001b[0m\u001b[0;34m\u001b[0m\u001b[0m\n\u001b[0m",
      "\u001b[0;31mTypeError\u001b[0m: can't multiply sequence by non-int of type 'str'"
     ]
    }
   ],
   "source": [
    "'Truong' * \"Manh\""
   ]
  },
  {
   "cell_type": "code",
   "execution_count": 27,
   "metadata": {},
   "outputs": [
    {
     "data": {
      "text/plain": [
       "2"
      ]
     },
     "execution_count": 27,
     "metadata": {},
     "output_type": "execute_result"
    }
   ],
   "source": [
    "True + True "
   ]
  },
  {
   "cell_type": "code",
   "execution_count": 28,
   "metadata": {},
   "outputs": [
    {
     "data": {
      "text/plain": [
       "1"
      ]
     },
     "execution_count": 28,
     "metadata": {},
     "output_type": "execute_result"
    }
   ],
   "source": [
    "True + False"
   ]
  },
  {
   "cell_type": "code",
   "execution_count": 29,
   "metadata": {},
   "outputs": [
    {
     "data": {
      "text/plain": [
       "(2+5j)"
      ]
     },
     "execution_count": 29,
     "metadata": {},
     "output_type": "execute_result"
    }
   ],
   "source": [
    "(1 + 2j) + (1 + 3j) "
   ]
  },
  {
   "cell_type": "code",
   "execution_count": 31,
   "metadata": {},
   "outputs": [
    {
     "data": {
      "text/plain": [
       "(-1+0j)"
      ]
     },
     "execution_count": 31,
     "metadata": {},
     "output_type": "execute_result"
    }
   ],
   "source": [
    "1j**2"
   ]
  },
  {
   "cell_type": "markdown",
   "metadata": {},
   "source": [
    "#### 2.2. Data structure"
   ]
  },
  {
   "cell_type": "markdown",
   "metadata": {},
   "source": [
    "- List: [], list(())\n",
    "- Tuple: (), tup\n",
    "- Set: {}, set\n",
    "- Dictionary: {'key': 'value'}, dict"
   ]
  },
  {
   "cell_type": "code",
   "execution_count": 2,
   "metadata": {},
   "outputs": [
    {
     "data": {
      "text/plain": [
       "[3, 2, 4, 6, 5]"
      ]
     },
     "execution_count": 2,
     "metadata": {},
     "output_type": "execute_result"
    }
   ],
   "source": [
    "li = [3, 2, 4, 6, 5]\n",
    "li"
   ]
  },
  {
   "cell_type": "markdown",
   "metadata": {},
   "source": [
    "**Slicing**"
   ]
  },
  {
   "cell_type": "code",
   "execution_count": 3,
   "metadata": {},
   "outputs": [
    {
     "data": {
      "text/plain": [
       "2"
      ]
     },
     "execution_count": 3,
     "metadata": {},
     "output_type": "execute_result"
    }
   ],
   "source": [
    "li[1]"
   ]
  },
  {
   "cell_type": "code",
   "execution_count": 4,
   "metadata": {},
   "outputs": [
    {
     "data": {
      "text/plain": [
       "[4, 6]"
      ]
     },
     "execution_count": 4,
     "metadata": {},
     "output_type": "execute_result"
    }
   ],
   "source": [
    "li[2: 4]"
   ]
  },
  {
   "cell_type": "code",
   "execution_count": 5,
   "metadata": {},
   "outputs": [
    {
     "data": {
      "text/plain": [
       "[3, 2, 4, 6, 5]"
      ]
     },
     "execution_count": 5,
     "metadata": {},
     "output_type": "execute_result"
    }
   ],
   "source": [
    "li"
   ]
  },
  {
   "cell_type": "code",
   "execution_count": 7,
   "metadata": {},
   "outputs": [
    {
     "data": {
      "text/plain": [
       "['append',\n",
       " 'clear',\n",
       " 'copy',\n",
       " 'count',\n",
       " 'extend',\n",
       " 'index',\n",
       " 'insert',\n",
       " 'pop',\n",
       " 'remove',\n",
       " 'reverse',\n",
       " 'sort']"
      ]
     },
     "execution_count": 7,
     "metadata": {},
     "output_type": "execute_result"
    }
   ],
   "source": [
    "[method for method in dir(li) if not method.startswith('_')]"
   ]
  },
  {
   "cell_type": "code",
   "execution_count": 18,
   "metadata": {},
   "outputs": [],
   "source": [
    "li.extend((1, 2, 3 , 4, 5))"
   ]
  },
  {
   "cell_type": "markdown",
   "metadata": {},
   "source": [
    "Function\n",
    "```\n",
    "\n",
    "def name_function(argument 1, argument 2, .... -optional):\n",
    "    # bussiness logic\n",
    "    return results (optional)\n",
    "    \n",
    "-> name_function(argument_1, ...)\n",
    "\n",
    "```"
   ]
  },
  {
   "cell_type": "code",
   "execution_count": 9,
   "metadata": {},
   "outputs": [],
   "source": [
    "li.append([10, 11, 12])"
   ]
  },
  {
   "cell_type": "code",
   "execution_count": 10,
   "metadata": {},
   "outputs": [
    {
     "data": {
      "text/plain": [
       "[3, 2, 4, 6, 5, [10, 11, 12]]"
      ]
     },
     "execution_count": 10,
     "metadata": {},
     "output_type": "execute_result"
    }
   ],
   "source": [
    "li"
   ]
  },
  {
   "cell_type": "code",
   "execution_count": 14,
   "metadata": {},
   "outputs": [
    {
     "data": {
      "text/plain": [
       "10"
      ]
     },
     "execution_count": 14,
     "metadata": {},
     "output_type": "execute_result"
    }
   ],
   "source": [
    "li[5][0]"
   ]
  },
  {
   "cell_type": "code",
   "execution_count": null,
   "metadata": {},
   "outputs": [],
   "source": [
    "f(x, y) = 3*x + 2*y\n",
    "f() = 3 + 2 + 4"
   ]
  },
  {
   "cell_type": "code",
   "execution_count": 15,
   "metadata": {},
   "outputs": [],
   "source": [
    "li.clear()"
   ]
  },
  {
   "cell_type": "code",
   "execution_count": 16,
   "metadata": {},
   "outputs": [
    {
     "data": {
      "text/plain": [
       "[]"
      ]
     },
     "execution_count": 16,
     "metadata": {},
     "output_type": "execute_result"
    }
   ],
   "source": [
    "li"
   ]
  },
  {
   "cell_type": "code",
   "execution_count": 19,
   "metadata": {},
   "outputs": [
    {
     "data": {
      "text/plain": [
       "[1, 2, 3, 4, 5]"
      ]
     },
     "execution_count": 19,
     "metadata": {},
     "output_type": "execute_result"
    }
   ],
   "source": [
    "li"
   ]
  },
  {
   "cell_type": "code",
   "execution_count": 22,
   "metadata": {},
   "outputs": [
    {
     "data": {
      "text/plain": [
       "[4, 5]"
      ]
     },
     "execution_count": 22,
     "metadata": {},
     "output_type": "execute_result"
    }
   ],
   "source": [
    "li[-2:]"
   ]
  },
  {
   "cell_type": "code",
   "execution_count": 23,
   "metadata": {},
   "outputs": [
    {
     "data": {
      "text/plain": [
       "[1, 2, 3]"
      ]
     },
     "execution_count": 23,
     "metadata": {},
     "output_type": "execute_result"
    }
   ],
   "source": [
    "li[: 3]"
   ]
  },
  {
   "cell_type": "code",
   "execution_count": 24,
   "metadata": {},
   "outputs": [
    {
     "data": {
      "text/plain": [
       "5"
      ]
     },
     "execution_count": 24,
     "metadata": {},
     "output_type": "execute_result"
    }
   ],
   "source": [
    "li.pop()"
   ]
  },
  {
   "cell_type": "code",
   "execution_count": 27,
   "metadata": {},
   "outputs": [],
   "source": [
    "li.extend([4, 3, 4])"
   ]
  },
  {
   "cell_type": "code",
   "execution_count": 28,
   "metadata": {},
   "outputs": [
    {
     "data": {
      "text/plain": [
       "[1, 2, 3, 4, 4, 3, 4]"
      ]
     },
     "execution_count": 28,
     "metadata": {},
     "output_type": "execute_result"
    }
   ],
   "source": [
    "li"
   ]
  },
  {
   "cell_type": "code",
   "execution_count": 29,
   "metadata": {},
   "outputs": [
    {
     "data": {
      "text/plain": [
       "3"
      ]
     },
     "execution_count": 29,
     "metadata": {},
     "output_type": "execute_result"
    }
   ],
   "source": [
    "li.count(4)"
   ]
  },
  {
   "cell_type": "code",
   "execution_count": 30,
   "metadata": {},
   "outputs": [
    {
     "data": {
      "text/plain": [
       "[1, 2, 3, 4, 4, 3, 4]"
      ]
     },
     "execution_count": 30,
     "metadata": {},
     "output_type": "execute_result"
    }
   ],
   "source": [
    "li"
   ]
  },
  {
   "cell_type": "code",
   "execution_count": 31,
   "metadata": {},
   "outputs": [],
   "source": [
    "li.sort()"
   ]
  },
  {
   "cell_type": "code",
   "execution_count": 32,
   "metadata": {},
   "outputs": [
    {
     "data": {
      "text/plain": [
       "[1, 2, 3, 3, 4, 4, 4]"
      ]
     },
     "execution_count": 32,
     "metadata": {},
     "output_type": "execute_result"
    }
   ],
   "source": [
    "li"
   ]
  },
  {
   "cell_type": "code",
   "execution_count": 33,
   "metadata": {},
   "outputs": [],
   "source": [
    "li.sort(reverse=True)"
   ]
  },
  {
   "cell_type": "code",
   "execution_count": 34,
   "metadata": {},
   "outputs": [
    {
     "data": {
      "text/plain": [
       "[4, 4, 4, 3, 3, 2, 1]"
      ]
     },
     "execution_count": 34,
     "metadata": {},
     "output_type": "execute_result"
    }
   ],
   "source": [
    "li"
   ]
  },
  {
   "cell_type": "code",
   "execution_count": 35,
   "metadata": {},
   "outputs": [
    {
     "ename": "TypeError",
     "evalue": "'<' not supported between instances of 'list' and 'int'",
     "output_type": "error",
     "traceback": [
      "\u001b[0;31m---------------------------------------------------------------------------\u001b[0m",
      "\u001b[0;31mTypeError\u001b[0m                                 Traceback (most recent call last)",
      "\u001b[0;32m<ipython-input-35-6378df142e4c>\u001b[0m in \u001b[0;36m<module>\u001b[0;34m\u001b[0m\n\u001b[1;32m      1\u001b[0m \u001b[0mli\u001b[0m\u001b[0;34m.\u001b[0m\u001b[0mappend\u001b[0m\u001b[0;34m(\u001b[0m\u001b[0;34m[\u001b[0m\u001b[0;36m10\u001b[0m\u001b[0;34m,\u001b[0m \u001b[0;36m12\u001b[0m\u001b[0;34m,\u001b[0m \u001b[0;36m3\u001b[0m\u001b[0;34m]\u001b[0m\u001b[0;34m)\u001b[0m\u001b[0;34m\u001b[0m\u001b[0;34m\u001b[0m\u001b[0m\n\u001b[0;32m----> 2\u001b[0;31m \u001b[0mli\u001b[0m\u001b[0;34m.\u001b[0m\u001b[0msort\u001b[0m\u001b[0;34m(\u001b[0m\u001b[0;34m)\u001b[0m\u001b[0;34m\u001b[0m\u001b[0;34m\u001b[0m\u001b[0m\n\u001b[0m\u001b[1;32m      3\u001b[0m \u001b[0mli\u001b[0m\u001b[0;34m\u001b[0m\u001b[0;34m\u001b[0m\u001b[0m\n",
      "\u001b[0;31mTypeError\u001b[0m: '<' not supported between instances of 'list' and 'int'"
     ]
    }
   ],
   "source": [
    "li.append([10, 12, 3])\n",
    "li.sort()\n",
    "li"
   ]
  },
  {
   "cell_type": "code",
   "execution_count": 36,
   "metadata": {},
   "outputs": [
    {
     "data": {
      "text/plain": [
       "[1, 2, 3, 3, 4, 4, 4, [10, 12, 3]]"
      ]
     },
     "execution_count": 36,
     "metadata": {},
     "output_type": "execute_result"
    }
   ],
   "source": [
    "li"
   ]
  },
  {
   "cell_type": "code",
   "execution_count": 37,
   "metadata": {},
   "outputs": [
    {
     "data": {
      "text/plain": [
       "[1, 2, 3, 3, 4, 4, 4]"
      ]
     },
     "execution_count": 37,
     "metadata": {},
     "output_type": "execute_result"
    }
   ],
   "source": [
    "li.remove([10, 12, 3])\n",
    "li"
   ]
  },
  {
   "cell_type": "code",
   "execution_count": 38,
   "metadata": {},
   "outputs": [
    {
     "data": {
      "text/plain": [
       "[1, 2, 3, 3, 4, 4, 4, [10, 12, 3]]"
      ]
     },
     "execution_count": 38,
     "metadata": {},
     "output_type": "execute_result"
    }
   ],
   "source": [
    "li.append([10, 12, 3])\n",
    "li"
   ]
  },
  {
   "cell_type": "code",
   "execution_count": 39,
   "metadata": {},
   "outputs": [
    {
     "data": {
      "text/plain": [
       "[1, 2, 3, 3, 4, 4, 4]"
      ]
     },
     "execution_count": 39,
     "metadata": {},
     "output_type": "execute_result"
    }
   ],
   "source": [
    "li.pop(-1)\n",
    "li"
   ]
  },
  {
   "cell_type": "code",
   "execution_count": 40,
   "metadata": {},
   "outputs": [
    {
     "data": {
      "text/plain": [
       "[3, 4, 5, 6, 'Truong', False]"
      ]
     },
     "execution_count": 40,
     "metadata": {},
     "output_type": "execute_result"
    }
   ],
   "source": [
    "li_2 = [3, 4, 5, 6, 'Truong', False]\n",
    "li_2"
   ]
  },
  {
   "cell_type": "code",
   "execution_count": 42,
   "metadata": {},
   "outputs": [
    {
     "data": {
      "text/plain": [
       "([1, 2, 3, 3, 4, 4, 4], [3, 4, 5, 6, 'Truong', False])"
      ]
     },
     "execution_count": 42,
     "metadata": {},
     "output_type": "execute_result"
    }
   ],
   "source": [
    "li, li_2"
   ]
  },
  {
   "cell_type": "code",
   "execution_count": 43,
   "metadata": {},
   "outputs": [
    {
     "data": {
      "text/plain": [
       "[1, 2, 3, 3, 4, 4, 4, 3, 4, 5, 6, 'Truong', False]"
      ]
     },
     "execution_count": 43,
     "metadata": {},
     "output_type": "execute_result"
    }
   ],
   "source": [
    "li + li_2"
   ]
  },
  {
   "cell_type": "code",
   "execution_count": 44,
   "metadata": {},
   "outputs": [
    {
     "data": {
      "text/plain": [
       "[1, 2, 3, 3, 4, 4, 4]"
      ]
     },
     "execution_count": 44,
     "metadata": {},
     "output_type": "execute_result"
    }
   ],
   "source": [
    "li"
   ]
  },
  {
   "cell_type": "code",
   "execution_count": 45,
   "metadata": {},
   "outputs": [
    {
     "data": {
      "text/plain": [
       "4"
      ]
     },
     "execution_count": 45,
     "metadata": {},
     "output_type": "execute_result"
    }
   ],
   "source": [
    "li.pop(-1)"
   ]
  },
  {
   "cell_type": "markdown",
   "metadata": {},
   "source": [
    "**Tuple**"
   ]
  },
  {
   "cell_type": "markdown",
   "metadata": {},
   "source": [
    "![Mutable vs Immutable](https://miro.medium.com/max/1316/1*uFlTNY4W3czywyU18zxl8w.png)"
   ]
  },
  {
   "cell_type": "markdown",
   "metadata": {},
   "source": [
    "- Mutable: Có thể thay đổi giá trị, nhưng không thay đổi địa chỉ\n",
    "- Immutable: Không thể thay đổi giá trị (nếu thay đổi giá trị, địa chỉ thay đổi)"
   ]
  },
  {
   "cell_type": "code",
   "execution_count": 47,
   "metadata": {},
   "outputs": [],
   "source": [
    "a = 1"
   ]
  },
  {
   "cell_type": "code",
   "execution_count": 48,
   "metadata": {},
   "outputs": [
    {
     "data": {
      "text/plain": [
       "4549027104"
      ]
     },
     "execution_count": 48,
     "metadata": {},
     "output_type": "execute_result"
    }
   ],
   "source": [
    "id(a)"
   ]
  },
  {
   "cell_type": "code",
   "execution_count": 49,
   "metadata": {},
   "outputs": [],
   "source": [
    "a = 2"
   ]
  },
  {
   "cell_type": "code",
   "execution_count": 50,
   "metadata": {},
   "outputs": [
    {
     "data": {
      "text/plain": [
       "4549027136"
      ]
     },
     "execution_count": 50,
     "metadata": {},
     "output_type": "execute_result"
    }
   ],
   "source": [
    "id(a)"
   ]
  },
  {
   "cell_type": "code",
   "execution_count": 51,
   "metadata": {},
   "outputs": [
    {
     "data": {
      "text/plain": [
       "140459298260360"
      ]
     },
     "execution_count": 51,
     "metadata": {},
     "output_type": "execute_result"
    }
   ],
   "source": [
    "li = [1, 2, 3, 4]\n",
    "id(li)"
   ]
  },
  {
   "cell_type": "code",
   "execution_count": 52,
   "metadata": {},
   "outputs": [
    {
     "data": {
      "text/plain": [
       "[1, 2, 10, 4]"
      ]
     },
     "execution_count": 52,
     "metadata": {},
     "output_type": "execute_result"
    }
   ],
   "source": [
    "li[2] = 10\n",
    "li"
   ]
  },
  {
   "cell_type": "code",
   "execution_count": 53,
   "metadata": {},
   "outputs": [
    {
     "data": {
      "text/plain": [
       "140459298260360"
      ]
     },
     "execution_count": 53,
     "metadata": {},
     "output_type": "execute_result"
    }
   ],
   "source": [
    "id(li)"
   ]
  },
  {
   "cell_type": "code",
   "execution_count": 54,
   "metadata": {},
   "outputs": [
    {
     "data": {
      "text/plain": [
       "['count', 'index']"
      ]
     },
     "execution_count": 54,
     "metadata": {},
     "output_type": "execute_result"
    }
   ],
   "source": [
    "[method for method in dir(tuple) if not method.startswith('_')]"
   ]
  },
  {
   "cell_type": "code",
   "execution_count": 55,
   "metadata": {},
   "outputs": [
    {
     "data": {
      "text/plain": [
       "(1, 2, 3, 4)"
      ]
     },
     "execution_count": 55,
     "metadata": {},
     "output_type": "execute_result"
    }
   ],
   "source": [
    "tup = (1, 2, 3, 4)\n",
    "tup"
   ]
  },
  {
   "cell_type": "code",
   "execution_count": 56,
   "metadata": {},
   "outputs": [
    {
     "data": {
      "text/plain": [
       "2"
      ]
     },
     "execution_count": 56,
     "metadata": {},
     "output_type": "execute_result"
    }
   ],
   "source": [
    "tup[1]"
   ]
  },
  {
   "cell_type": "code",
   "execution_count": 57,
   "metadata": {},
   "outputs": [
    {
     "data": {
      "text/plain": [
       "(3, 4)"
      ]
     },
     "execution_count": 57,
     "metadata": {},
     "output_type": "execute_result"
    }
   ],
   "source": [
    "tup[-2:]"
   ]
  },
  {
   "cell_type": "code",
   "execution_count": 58,
   "metadata": {},
   "outputs": [
    {
     "ename": "TypeError",
     "evalue": "'tuple' object does not support item assignment",
     "output_type": "error",
     "traceback": [
      "\u001b[0;31m---------------------------------------------------------------------------\u001b[0m",
      "\u001b[0;31mTypeError\u001b[0m                                 Traceback (most recent call last)",
      "\u001b[0;32m<ipython-input-58-3cb0a1684327>\u001b[0m in \u001b[0;36m<module>\u001b[0;34m\u001b[0m\n\u001b[0;32m----> 1\u001b[0;31m \u001b[0mtup\u001b[0m\u001b[0;34m[\u001b[0m\u001b[0;34m-\u001b[0m\u001b[0;36m2\u001b[0m\u001b[0;34m]\u001b[0m \u001b[0;34m=\u001b[0m \u001b[0;36m10\u001b[0m\u001b[0;34m\u001b[0m\u001b[0;34m\u001b[0m\u001b[0m\n\u001b[0m",
      "\u001b[0;31mTypeError\u001b[0m: 'tuple' object does not support item assignment"
     ]
    }
   ],
   "source": [
    "tup[-2] = 10"
   ]
  },
  {
   "cell_type": "code",
   "execution_count": 59,
   "metadata": {},
   "outputs": [
    {
     "data": {
      "text/plain": [
       "(1, 2, 3, 4)"
      ]
     },
     "execution_count": 59,
     "metadata": {},
     "output_type": "execute_result"
    }
   ],
   "source": [
    "tup"
   ]
  },
  {
   "cell_type": "code",
   "execution_count": 60,
   "metadata": {},
   "outputs": [
    {
     "ename": "AttributeError",
     "evalue": "'tuple' object has no attribute 'remove'",
     "output_type": "error",
     "traceback": [
      "\u001b[0;31m---------------------------------------------------------------------------\u001b[0m",
      "\u001b[0;31mAttributeError\u001b[0m                            Traceback (most recent call last)",
      "\u001b[0;32m<ipython-input-60-b74251bdbfe9>\u001b[0m in \u001b[0;36m<module>\u001b[0;34m\u001b[0m\n\u001b[0;32m----> 1\u001b[0;31m \u001b[0mtup\u001b[0m\u001b[0;34m.\u001b[0m\u001b[0mremove\u001b[0m\u001b[0;34m(\u001b[0m\u001b[0;36m3\u001b[0m\u001b[0;34m)\u001b[0m\u001b[0;34m\u001b[0m\u001b[0;34m\u001b[0m\u001b[0m\n\u001b[0m",
      "\u001b[0;31mAttributeError\u001b[0m: 'tuple' object has no attribute 'remove'"
     ]
    }
   ],
   "source": [
    "tup.remove(3)"
   ]
  },
  {
   "cell_type": "code",
   "execution_count": 61,
   "metadata": {},
   "outputs": [
    {
     "data": {
      "text/plain": [
       "1"
      ]
     },
     "execution_count": 61,
     "metadata": {},
     "output_type": "execute_result"
    }
   ],
   "source": [
    "tup.count(3)"
   ]
  },
  {
   "cell_type": "markdown",
   "metadata": {},
   "source": [
    "**Set**\n",
    "- Không có phần tử trùng nhau\n",
    "- Không có index"
   ]
  },
  {
   "cell_type": "markdown",
   "metadata": {},
   "source": [
    "![set](data:image/png;base64,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)"
   ]
  },
  {
   "cell_type": "code",
   "execution_count": 62,
   "metadata": {},
   "outputs": [
    {
     "data": {
      "text/plain": [
       "{1, 2, 3, 10, 20}"
      ]
     },
     "execution_count": 62,
     "metadata": {},
     "output_type": "execute_result"
    }
   ],
   "source": [
    "set_1 = {1, 1, 2, 2, 3, 3, 10, 10, 20, 20}\n",
    "set_1"
   ]
  },
  {
   "cell_type": "code",
   "execution_count": 63,
   "metadata": {},
   "outputs": [
    {
     "ename": "TypeError",
     "evalue": "'set' object does not support indexing",
     "output_type": "error",
     "traceback": [
      "\u001b[0;31m---------------------------------------------------------------------------\u001b[0m",
      "\u001b[0;31mTypeError\u001b[0m                                 Traceback (most recent call last)",
      "\u001b[0;32m<ipython-input-63-a26ed39fc722>\u001b[0m in \u001b[0;36m<module>\u001b[0;34m\u001b[0m\n\u001b[0;32m----> 1\u001b[0;31m \u001b[0mset_1\u001b[0m\u001b[0;34m[\u001b[0m\u001b[0;36m0\u001b[0m\u001b[0;34m]\u001b[0m\u001b[0;34m\u001b[0m\u001b[0;34m\u001b[0m\u001b[0m\n\u001b[0m",
      "\u001b[0;31mTypeError\u001b[0m: 'set' object does not support indexing"
     ]
    }
   ],
   "source": [
    "set_1[0]"
   ]
  },
  {
   "cell_type": "code",
   "execution_count": 64,
   "metadata": {},
   "outputs": [
    {
     "data": {
      "text/plain": [
       "['add',\n",
       " 'clear',\n",
       " 'copy',\n",
       " 'difference',\n",
       " 'difference_update',\n",
       " 'discard',\n",
       " 'intersection',\n",
       " 'intersection_update',\n",
       " 'isdisjoint',\n",
       " 'issubset',\n",
       " 'issuperset',\n",
       " 'pop',\n",
       " 'remove',\n",
       " 'symmetric_difference',\n",
       " 'symmetric_difference_update',\n",
       " 'union',\n",
       " 'update']"
      ]
     },
     "execution_count": 64,
     "metadata": {},
     "output_type": "execute_result"
    }
   ],
   "source": [
    "[method for method in dir(set) if not method.startswith('_')]"
   ]
  },
  {
   "cell_type": "code",
   "execution_count": 65,
   "metadata": {},
   "outputs": [
    {
     "data": {
      "text/plain": [
       "{1, 2, 3, 10, 20}"
      ]
     },
     "execution_count": 65,
     "metadata": {},
     "output_type": "execute_result"
    }
   ],
   "source": [
    "set_1"
   ]
  },
  {
   "cell_type": "code",
   "execution_count": 66,
   "metadata": {},
   "outputs": [
    {
     "data": {
      "text/plain": [
       "{2, 3, 5, 6}"
      ]
     },
     "execution_count": 66,
     "metadata": {},
     "output_type": "execute_result"
    }
   ],
   "source": [
    "set_2 = {2, 3, 5, 6, 6}\n",
    "set_2"
   ]
  },
  {
   "cell_type": "code",
   "execution_count": 67,
   "metadata": {},
   "outputs": [
    {
     "data": {
      "text/plain": [
       "{1, 10, 20}"
      ]
     },
     "execution_count": 67,
     "metadata": {},
     "output_type": "execute_result"
    }
   ],
   "source": [
    "set_1.difference(set_2)"
   ]
  },
  {
   "cell_type": "code",
   "execution_count": 68,
   "metadata": {},
   "outputs": [
    {
     "data": {
      "text/plain": [
       "{1, 2, 3, 10, 20}"
      ]
     },
     "execution_count": 68,
     "metadata": {},
     "output_type": "execute_result"
    }
   ],
   "source": [
    "set_1"
   ]
  },
  {
   "cell_type": "code",
   "execution_count": 69,
   "metadata": {},
   "outputs": [
    {
     "data": {
      "text/plain": [
       "{2, 3, 5, 6}"
      ]
     },
     "execution_count": 69,
     "metadata": {},
     "output_type": "execute_result"
    }
   ],
   "source": [
    "set_2"
   ]
  },
  {
   "cell_type": "code",
   "execution_count": 70,
   "metadata": {},
   "outputs": [],
   "source": [
    "set_1.difference_update(set_2)"
   ]
  },
  {
   "cell_type": "code",
   "execution_count": 71,
   "metadata": {},
   "outputs": [
    {
     "data": {
      "text/plain": [
       "{1, 10, 20}"
      ]
     },
     "execution_count": 71,
     "metadata": {},
     "output_type": "execute_result"
    }
   ],
   "source": [
    "set_1"
   ]
  },
  {
   "cell_type": "code",
   "execution_count": 72,
   "metadata": {},
   "outputs": [
    {
     "data": {
      "text/plain": [
       "4549027136"
      ]
     },
     "execution_count": 72,
     "metadata": {},
     "output_type": "execute_result"
    }
   ],
   "source": [
    "id(a)"
   ]
  },
  {
   "cell_type": "code",
   "execution_count": 73,
   "metadata": {},
   "outputs": [
    {
     "ename": "AttributeError",
     "evalue": "'int' object has no attribute 'id'",
     "output_type": "error",
     "traceback": [
      "\u001b[0;31m---------------------------------------------------------------------------\u001b[0m",
      "\u001b[0;31mAttributeError\u001b[0m                            Traceback (most recent call last)",
      "\u001b[0;32m<ipython-input-73-65d56a477230>\u001b[0m in \u001b[0;36m<module>\u001b[0;34m\u001b[0m\n\u001b[0;32m----> 1\u001b[0;31m \u001b[0ma\u001b[0m\u001b[0;34m.\u001b[0m\u001b[0mid\u001b[0m\u001b[0;34m(\u001b[0m\u001b[0;34m)\u001b[0m\u001b[0;34m\u001b[0m\u001b[0;34m\u001b[0m\u001b[0m\n\u001b[0m",
      "\u001b[0;31mAttributeError\u001b[0m: 'int' object has no attribute 'id'"
     ]
    }
   ],
   "source": [
    "a.id()"
   ]
  },
  {
   "cell_type": "code",
   "execution_count": 74,
   "metadata": {},
   "outputs": [
    {
     "data": {
      "text/plain": [
       "[1, 2, 10, 4]"
      ]
     },
     "execution_count": 74,
     "metadata": {},
     "output_type": "execute_result"
    }
   ],
   "source": [
    "li"
   ]
  },
  {
   "cell_type": "code",
   "execution_count": 75,
   "metadata": {},
   "outputs": [
    {
     "ename": "AttributeError",
     "evalue": "'list' object has no attribute 'id'",
     "output_type": "error",
     "traceback": [
      "\u001b[0;31m---------------------------------------------------------------------------\u001b[0m",
      "\u001b[0;31mAttributeError\u001b[0m                            Traceback (most recent call last)",
      "\u001b[0;32m<ipython-input-75-8c8f49fd56fc>\u001b[0m in \u001b[0;36m<module>\u001b[0;34m\u001b[0m\n\u001b[0;32m----> 1\u001b[0;31m \u001b[0mli\u001b[0m\u001b[0;34m.\u001b[0m\u001b[0mid\u001b[0m\u001b[0;34m(\u001b[0m\u001b[0;34m)\u001b[0m\u001b[0;34m\u001b[0m\u001b[0;34m\u001b[0m\u001b[0m\n\u001b[0m",
      "\u001b[0;31mAttributeError\u001b[0m: 'list' object has no attribute 'id'"
     ]
    }
   ],
   "source": [
    "li.id()"
   ]
  },
  {
   "cell_type": "code",
   "execution_count": 76,
   "metadata": {},
   "outputs": [
    {
     "data": {
      "text/plain": [
       "{1, 10, 20}"
      ]
     },
     "execution_count": 76,
     "metadata": {},
     "output_type": "execute_result"
    }
   ],
   "source": [
    "set_1"
   ]
  },
  {
   "cell_type": "code",
   "execution_count": 77,
   "metadata": {},
   "outputs": [
    {
     "data": {
      "text/plain": [
       "{2, 3, 5, 6}"
      ]
     },
     "execution_count": 77,
     "metadata": {},
     "output_type": "execute_result"
    }
   ],
   "source": [
    "set_2"
   ]
  },
  {
   "cell_type": "code",
   "execution_count": 78,
   "metadata": {},
   "outputs": [
    {
     "data": {
      "text/plain": [
       "{1, 20}"
      ]
     },
     "execution_count": 78,
     "metadata": {},
     "output_type": "execute_result"
    }
   ],
   "source": [
    "set_1.remove(10)\n",
    "set_1"
   ]
  },
  {
   "cell_type": "code",
   "execution_count": 79,
   "metadata": {},
   "outputs": [
    {
     "ename": "KeyError",
     "evalue": "2",
     "output_type": "error",
     "traceback": [
      "\u001b[0;31m---------------------------------------------------------------------------\u001b[0m",
      "\u001b[0;31mKeyError\u001b[0m                                  Traceback (most recent call last)",
      "\u001b[0;32m<ipython-input-79-5f7ee7b60d96>\u001b[0m in \u001b[0;36m<module>\u001b[0;34m\u001b[0m\n\u001b[0;32m----> 1\u001b[0;31m \u001b[0mset_1\u001b[0m\u001b[0;34m.\u001b[0m\u001b[0mremove\u001b[0m\u001b[0;34m(\u001b[0m\u001b[0;36m2\u001b[0m\u001b[0;34m)\u001b[0m\u001b[0;34m\u001b[0m\u001b[0;34m\u001b[0m\u001b[0m\n\u001b[0m",
      "\u001b[0;31mKeyError\u001b[0m: 2"
     ]
    }
   ],
   "source": [
    "set_1.remove(2)"
   ]
  },
  {
   "cell_type": "code",
   "execution_count": 81,
   "metadata": {},
   "outputs": [],
   "source": [
    "set_2.add(4)"
   ]
  },
  {
   "cell_type": "code",
   "execution_count": 82,
   "metadata": {},
   "outputs": [
    {
     "data": {
      "text/plain": [
       "{2, 3, 4, 5, 6}"
      ]
     },
     "execution_count": 82,
     "metadata": {},
     "output_type": "execute_result"
    }
   ],
   "source": [
    "set_2"
   ]
  },
  {
   "cell_type": "code",
   "execution_count": 86,
   "metadata": {},
   "outputs": [
    {
     "data": {
      "text/plain": [
       "{3, 5}"
      ]
     },
     "execution_count": 86,
     "metadata": {},
     "output_type": "execute_result"
    }
   ],
   "source": [
    "set_3 = set()\n",
    "for i in set_2:\n",
    "    if i % 2 == 0:\n",
    "        set_3.add(i)\n",
    "\n",
    "set_2.difference_update(set_3)\n",
    "set_2"
   ]
  },
  {
   "cell_type": "code",
   "execution_count": 87,
   "metadata": {},
   "outputs": [],
   "source": [
    "set_1.update()"
   ]
  },
  {
   "cell_type": "code",
   "execution_count": 88,
   "metadata": {},
   "outputs": [
    {
     "data": {
      "text/plain": [
       "{1, 20}"
      ]
     },
     "execution_count": 88,
     "metadata": {},
     "output_type": "execute_result"
    }
   ],
   "source": [
    "set_1"
   ]
  },
  {
   "cell_type": "code",
   "execution_count": 89,
   "metadata": {},
   "outputs": [
    {
     "data": {
      "text/plain": [
       "{1, 20}"
      ]
     },
     "execution_count": 89,
     "metadata": {},
     "output_type": "execute_result"
    }
   ],
   "source": [
    "set_1"
   ]
  },
  {
   "cell_type": "code",
   "execution_count": 90,
   "metadata": {},
   "outputs": [],
   "source": [
    "set_1.update()"
   ]
  },
  {
   "cell_type": "code",
   "execution_count": 91,
   "metadata": {},
   "outputs": [
    {
     "data": {
      "text/plain": [
       "{1, 20}"
      ]
     },
     "execution_count": 91,
     "metadata": {},
     "output_type": "execute_result"
    }
   ],
   "source": [
    "set_1"
   ]
  },
  {
   "cell_type": "code",
   "execution_count": 96,
   "metadata": {},
   "outputs": [
    {
     "ename": "SyntaxError",
     "evalue": "invalid syntax (<ipython-input-96-6e75ca519244>, line 2)",
     "output_type": "error",
     "traceback": [
      "\u001b[0;36m  File \u001b[0;32m\"<ipython-input-96-6e75ca519244>\"\u001b[0;36m, line \u001b[0;32m2\u001b[0m\n\u001b[0;31m    set_1.update(set_2))\u001b[0m\n\u001b[0m                       ^\u001b[0m\n\u001b[0;31mSyntaxError\u001b[0m\u001b[0;31m:\u001b[0m invalid syntax\n"
     ]
    }
   ],
   "source": [
    "set_2 = (1, 10)\n",
    "set_1.update()"
   ]
  },
  {
   "cell_type": "code",
   "execution_count": 97,
   "metadata": {},
   "outputs": [
    {
     "data": {
      "text/plain": [
       "{1, 10, 20}"
      ]
     },
     "execution_count": 97,
     "metadata": {},
     "output_type": "execute_result"
    }
   ],
   "source": [
    "set_1"
   ]
  },
  {
   "cell_type": "code",
   "execution_count": 110,
   "metadata": {},
   "outputs": [],
   "source": [
    "set_1.update(tuple([6]))"
   ]
  },
  {
   "cell_type": "code",
   "execution_count": 111,
   "metadata": {},
   "outputs": [
    {
     "data": {
      "text/plain": [
       "{1, 3, 4, 5, 6, 7, 10, 20}"
      ]
     },
     "execution_count": 111,
     "metadata": {},
     "output_type": "execute_result"
    }
   ],
   "source": [
    "set_1"
   ]
  },
  {
   "cell_type": "code",
   "execution_count": null,
   "metadata": {},
   "outputs": [],
   "source": [
    "(4)"
   ]
  },
  {
   "cell_type": "code",
   "execution_count": 112,
   "metadata": {},
   "outputs": [
    {
     "data": {
      "text/plain": [
       "(6,)"
      ]
     },
     "execution_count": 112,
     "metadata": {},
     "output_type": "execute_result"
    }
   ],
   "source": [
    "tuple([6])"
   ]
  },
  {
   "cell_type": "code",
   "execution_count": 113,
   "metadata": {},
   "outputs": [],
   "source": [
    "li = [1, 2, 3, 4, 5, 6]"
   ]
  },
  {
   "cell_type": "code",
   "execution_count": 114,
   "metadata": {},
   "outputs": [
    {
     "data": {
      "text/plain": [
       "[1, 2, 3, 4, 5, 6]"
      ]
     },
     "execution_count": 114,
     "metadata": {},
     "output_type": "execute_result"
    }
   ],
   "source": [
    "li"
   ]
  },
  {
   "cell_type": "code",
   "execution_count": 116,
   "metadata": {},
   "outputs": [
    {
     "data": {
      "text/plain": [
       "[1, 2, 3, 4, 5, 6]"
      ]
     },
     "execution_count": 116,
     "metadata": {},
     "output_type": "execute_result"
    }
   ],
   "source": [
    "list(tuple(li))"
   ]
  },
  {
   "cell_type": "code",
   "execution_count": 117,
   "metadata": {},
   "outputs": [
    {
     "data": {
      "text/plain": [
       "1"
      ]
     },
     "execution_count": 117,
     "metadata": {},
     "output_type": "execute_result"
    }
   ],
   "source": [
    "a = 1\n",
    "a"
   ]
  },
  {
   "cell_type": "code",
   "execution_count": 119,
   "metadata": {},
   "outputs": [
    {
     "data": {
      "text/plain": [
       "1"
      ]
     },
     "execution_count": 119,
     "metadata": {},
     "output_type": "execute_result"
    }
   ],
   "source": [
    "int(str(a))"
   ]
  },
  {
   "cell_type": "markdown",
   "metadata": {},
   "source": [
    "**Dictionary**\n",
    "- {'key': value}"
   ]
  },
  {
   "cell_type": "code",
   "execution_count": 121,
   "metadata": {},
   "outputs": [
    {
     "data": {
      "text/plain": [
       "{'name': 'Truong'}"
      ]
     },
     "execution_count": 121,
     "metadata": {},
     "output_type": "execute_result"
    }
   ],
   "source": [
    "dict_1 = {'name': 'Truong'}\n",
    "dict_1"
   ]
  },
  {
   "cell_type": "code",
   "execution_count": 123,
   "metadata": {},
   "outputs": [
    {
     "ename": "KeyError",
     "evalue": "'age'",
     "output_type": "error",
     "traceback": [
      "\u001b[0;31m---------------------------------------------------------------------------\u001b[0m",
      "\u001b[0;31mKeyError\u001b[0m                                  Traceback (most recent call last)",
      "\u001b[0;32m<ipython-input-123-01af7295116b>\u001b[0m in \u001b[0;36m<module>\u001b[0;34m\u001b[0m\n\u001b[0;32m----> 1\u001b[0;31m \u001b[0mdict_1\u001b[0m\u001b[0;34m[\u001b[0m\u001b[0;34m'age'\u001b[0m\u001b[0;34m]\u001b[0m\u001b[0;34m\u001b[0m\u001b[0;34m\u001b[0m\u001b[0m\n\u001b[0m",
      "\u001b[0;31mKeyError\u001b[0m: 'age'"
     ]
    }
   ],
   "source": [
    "dict_1['age']"
   ]
  },
  {
   "cell_type": "code",
   "execution_count": 125,
   "metadata": {},
   "outputs": [
    {
     "data": {
      "text/plain": [
       "'Truong'"
      ]
     },
     "execution_count": 125,
     "metadata": {},
     "output_type": "execute_result"
    }
   ],
   "source": [
    "dict_1.get('name')"
   ]
  },
  {
   "cell_type": "code",
   "execution_count": 126,
   "metadata": {},
   "outputs": [
    {
     "data": {
      "text/plain": [
       "{'name': ['Truong', 'Nam', 'Thu'], 'age': [30, 40, 50]}"
      ]
     },
     "execution_count": 126,
     "metadata": {},
     "output_type": "execute_result"
    }
   ],
   "source": [
    "dict_2 = {'name': ['Truong', 'Nam', 'Thu'], 'age': [30, 40, 50]}\n",
    "dict_2"
   ]
  },
  {
   "cell_type": "code",
   "execution_count": 127,
   "metadata": {},
   "outputs": [
    {
     "data": {
      "text/plain": [
       "['Truong', 'Nam', 'Thu']"
      ]
     },
     "execution_count": 127,
     "metadata": {},
     "output_type": "execute_result"
    }
   ],
   "source": [
    "dict_2.get('name')"
   ]
  },
  {
   "cell_type": "code",
   "execution_count": 128,
   "metadata": {},
   "outputs": [
    {
     "data": {
      "text/plain": [
       "['clear',\n",
       " 'copy',\n",
       " 'fromkeys',\n",
       " 'get',\n",
       " 'items',\n",
       " 'keys',\n",
       " 'pop',\n",
       " 'popitem',\n",
       " 'setdefault',\n",
       " 'update',\n",
       " 'values']"
      ]
     },
     "execution_count": 128,
     "metadata": {},
     "output_type": "execute_result"
    }
   ],
   "source": [
    "[method for method in dir(dict) if not method.startswith('_')]"
   ]
  },
  {
   "cell_type": "code",
   "execution_count": 131,
   "metadata": {},
   "outputs": [
    {
     "data": {
      "text/plain": [
       "{'1': None, ',': None, '2': None, '3': None, '4': None}"
      ]
     },
     "execution_count": 131,
     "metadata": {},
     "output_type": "execute_result"
    }
   ],
   "source": [
    "dict.fromkeys('1,234')"
   ]
  },
  {
   "cell_type": "code",
   "execution_count": 132,
   "metadata": {},
   "outputs": [
    {
     "data": {
      "text/plain": [
       "dict"
      ]
     },
     "execution_count": 132,
     "metadata": {},
     "output_type": "execute_result"
    }
   ],
   "source": [
    "dict"
   ]
  },
  {
   "cell_type": "code",
   "execution_count": 133,
   "metadata": {},
   "outputs": [
    {
     "data": {
      "text/plain": [
       "{'A': None, 'C': None, 'D': None}"
      ]
     },
     "execution_count": 133,
     "metadata": {},
     "output_type": "execute_result"
    }
   ],
   "source": [
    "dict.fromkeys('ACCD')"
   ]
  },
  {
   "cell_type": "code",
   "execution_count": 137,
   "metadata": {},
   "outputs": [
    {
     "data": {
      "text/plain": [
       "{'name': None, 'age': None, 'university': None}"
      ]
     },
     "execution_count": 137,
     "metadata": {},
     "output_type": "execute_result"
    }
   ],
   "source": [
    "dict_1.fromkeys(['name', 'age', 'university'])"
   ]
  },
  {
   "cell_type": "code",
   "execution_count": 139,
   "metadata": {},
   "outputs": [
    {
     "data": {
      "text/plain": [
       "{'name': ['Truong', 'Nam', 'Thu'], 'age': [30, 40, 50]}"
      ]
     },
     "execution_count": 139,
     "metadata": {},
     "output_type": "execute_result"
    }
   ],
   "source": [
    "dict_2"
   ]
  },
  {
   "cell_type": "code",
   "execution_count": 145,
   "metadata": {},
   "outputs": [
    {
     "data": {
      "text/plain": [
       "['MCI', 'BK', 'SG']"
      ]
     },
     "execution_count": 145,
     "metadata": {},
     "output_type": "execute_result"
    }
   ],
   "source": [
    "default = ['MCI', 'BK', 'SG']\n",
    "dict_2.get('abc', default)"
   ]
  },
  {
   "cell_type": "code",
   "execution_count": 146,
   "metadata": {},
   "outputs": [
    {
     "data": {
      "text/plain": [
       "dict_items([('name', ['Truong', 'Nam', 'Thu']), ('age', [30, 40, 50])])"
      ]
     },
     "execution_count": 146,
     "metadata": {},
     "output_type": "execute_result"
    }
   ],
   "source": [
    "dict_2.items()"
   ]
  },
  {
   "cell_type": "code",
   "execution_count": 150,
   "metadata": {},
   "outputs": [
    {
     "name": "stdout",
     "output_type": "stream",
     "text": [
      "Key:  name - Value:  Truong\n",
      "Key:  age - Value:  30\n"
     ]
    }
   ],
   "source": [
    "for key, value in dict_2.items():\n",
    "    print('Key: ', key, '- Value: ', value[0])"
   ]
  },
  {
   "cell_type": "code",
   "execution_count": 151,
   "metadata": {},
   "outputs": [
    {
     "data": {
      "text/plain": [
       "{'name': ['Truong', 'Nam', 'Thu'], 'age': [30, 40, 50]}"
      ]
     },
     "execution_count": 151,
     "metadata": {},
     "output_type": "execute_result"
    }
   ],
   "source": [
    "dict_2"
   ]
  },
  {
   "cell_type": "code",
   "execution_count": 155,
   "metadata": {},
   "outputs": [],
   "source": [
    "dict_2.setdefault('university', ['BK', 'MCI', 'SG'])"
   ]
  },
  {
   "cell_type": "code",
   "execution_count": 157,
   "metadata": {},
   "outputs": [],
   "source": [
    "dict_2.setdefault('university')"
   ]
  },
  {
   "cell_type": "code",
   "execution_count": 159,
   "metadata": {},
   "outputs": [],
   "source": [
    "dict_2['university'] = ['BK', 'MCI', 'SG']"
   ]
  },
  {
   "cell_type": "code",
   "execution_count": 160,
   "metadata": {},
   "outputs": [
    {
     "data": {
      "text/plain": [
       "{'name': ['Truong', 'Nam', 'Thu'],\n",
       " 'age': [30, 40, 50],\n",
       " 'university': ['BK', 'MCI', 'SG']}"
      ]
     },
     "execution_count": 160,
     "metadata": {},
     "output_type": "execute_result"
    }
   ],
   "source": [
    "dict_2"
   ]
  },
  {
   "cell_type": "code",
   "execution_count": 162,
   "metadata": {},
   "outputs": [
    {
     "data": {
      "text/plain": [
       "{'name': ['Truong', 'Nam', 'Thu'],\n",
       " 'age': [30, 40, 50],\n",
       " 'university': ['BK', 'MCI', 'SG'],\n",
       " 'hometown': None}"
      ]
     },
     "execution_count": 162,
     "metadata": {},
     "output_type": "execute_result"
    }
   ],
   "source": [
    "dict_2.setdefault('hometown')\n",
    "dict_2"
   ]
  },
  {
   "cell_type": "code",
   "execution_count": 167,
   "metadata": {},
   "outputs": [
    {
     "name": "stdout",
     "output_type": "stream",
     "text": [
      "I'm am \"Truong\"\n"
     ]
    }
   ],
   "source": [
    "print('I\\'m am \"Truong\"')"
   ]
  },
  {
   "cell_type": "markdown",
   "metadata": {},
   "source": [
    "### User-defined function\n",
    "\n",
    "```\n",
    "def func_name(agurment_1, argument_2, .. - optional):\n",
    "    # business logic\n",
    "    return result - optional\n",
    "```\n",
    "\n",
    "lambda x, y : result"
   ]
  },
  {
   "cell_type": "code",
   "execution_count": 173,
   "metadata": {},
   "outputs": [],
   "source": [
    "def squared(a):\n",
    "    a = a**2\n",
    "    return a"
   ]
  },
  {
   "cell_type": "code",
   "execution_count": 174,
   "metadata": {},
   "outputs": [
    {
     "data": {
      "text/plain": [
       "81"
      ]
     },
     "execution_count": 174,
     "metadata": {},
     "output_type": "execute_result"
    }
   ],
   "source": [
    "squared(9)"
   ]
  },
  {
   "cell_type": "code",
   "execution_count": 175,
   "metadata": {},
   "outputs": [],
   "source": [
    "def retangular_area(width, length):\n",
    "    return width * length"
   ]
  },
  {
   "cell_type": "code",
   "execution_count": 177,
   "metadata": {},
   "outputs": [
    {
     "data": {
      "text/plain": [
       "12"
      ]
     },
     "execution_count": 177,
     "metadata": {},
     "output_type": "execute_result"
    }
   ],
   "source": [
    "retangular_area(3, 4)"
   ]
  },
  {
   "cell_type": "code",
   "execution_count": 185,
   "metadata": {},
   "outputs": [],
   "source": [
    "def retangular_area(width, length=12):\n",
    "    \"\"\"\n",
    "    Calculate retangular area\n",
    "    \"\"\"\n",
    "    if length != 12:\n",
    "        return width * length\n",
    "    else:\n",
    "        return width * width"
   ]
  },
  {
   "cell_type": "code",
   "execution_count": 183,
   "metadata": {},
   "outputs": [
    {
     "data": {
      "text/plain": [
       "130"
      ]
     },
     "execution_count": 183,
     "metadata": {},
     "output_type": "execute_result"
    }
   ],
   "source": [
    "retangular_area()"
   ]
  },
  {
   "cell_type": "code",
   "execution_count": 186,
   "metadata": {},
   "outputs": [],
   "source": [
    "def name():\n",
    "    print('I am Grooo')"
   ]
  },
  {
   "cell_type": "code",
   "execution_count": 187,
   "metadata": {},
   "outputs": [
    {
     "name": "stdout",
     "output_type": "stream",
     "text": [
      "I am Grooo\n"
     ]
    }
   ],
   "source": [
    "name()"
   ]
  },
  {
   "cell_type": "code",
   "execution_count": 168,
   "metadata": {},
   "outputs": [],
   "source": [
    "a = lambda x : x**2"
   ]
  },
  {
   "cell_type": "code",
   "execution_count": 170,
   "metadata": {},
   "outputs": [
    {
     "data": {
      "text/plain": [
       "9"
      ]
     },
     "execution_count": 170,
     "metadata": {},
     "output_type": "execute_result"
    }
   ],
   "source": [
    "a(3)"
   ]
  },
  {
   "cell_type": "code",
   "execution_count": 171,
   "metadata": {},
   "outputs": [],
   "source": [
    "b = lambda x, y : x**2 * y"
   ]
  },
  {
   "cell_type": "code",
   "execution_count": 172,
   "metadata": {},
   "outputs": [
    {
     "data": {
      "text/plain": [
       "96"
      ]
     },
     "execution_count": 172,
     "metadata": {},
     "output_type": "execute_result"
    }
   ],
   "source": [
    "b(4, 6)"
   ]
  },
  {
   "cell_type": "markdown",
   "metadata": {},
   "source": [
    "### Control Flow\n",
    "- Sequence: Tuan tu\n",
    "- Loop: For, While\n",
    "- Conditional: If else"
   ]
  },
  {
   "cell_type": "markdown",
   "metadata": {},
   "source": [
    "#### Loop\n",
    "- Index\n",
    "- Item"
   ]
  },
  {
   "cell_type": "code",
   "execution_count": 3,
   "metadata": {},
   "outputs": [],
   "source": [
    "li = [6, 2, 5, 4] # Iterable"
   ]
  },
  {
   "cell_type": "code",
   "execution_count": 4,
   "metadata": {},
   "outputs": [
    {
     "data": {
      "text/plain": [
       "4"
      ]
     },
     "execution_count": 4,
     "metadata": {},
     "output_type": "execute_result"
    }
   ],
   "source": [
    "len(li)"
   ]
  },
  {
   "cell_type": "code",
   "execution_count": 7,
   "metadata": {},
   "outputs": [
    {
     "name": "stdout",
     "output_type": "stream",
     "text": [
      "36\n",
      "4\n",
      "25\n",
      "16\n"
     ]
    }
   ],
   "source": [
    "# Index [0, len(li))\n",
    "for i in range(0, len(li)):\n",
    "    print(li[i]**2)"
   ]
  },
  {
   "cell_type": "code",
   "execution_count": 10,
   "metadata": {},
   "outputs": [
    {
     "name": "stdout",
     "output_type": "stream",
     "text": [
      "9\n",
      "7\n",
      "5\n",
      "3\n",
      "1\n"
     ]
    }
   ],
   "source": [
    "for i in range(9, -1, -2):\n",
    "    print(i)"
   ]
  },
  {
   "cell_type": "code",
   "execution_count": 12,
   "metadata": {},
   "outputs": [
    {
     "name": "stdout",
     "output_type": "stream",
     "text": [
      "36\n",
      "4\n",
      "25\n",
      "16\n"
     ]
    }
   ],
   "source": [
    "# Item\n",
    "for i in li:\n",
    "    print(i**2)"
   ]
  },
  {
   "cell_type": "markdown",
   "metadata": {},
   "source": [
    "#### Conditional\n",
    "```\n",
    "If (boolean): \n",
    "    # Business logic\n",
    "elif (boolean): - optional\n",
    "    # Business logic\n",
    "elif....: - optional\n",
    "    # Business logic\n",
    "else: - optional\n",
    "    # Business logic\n",
    "```"
   ]
  },
  {
   "cell_type": "code",
   "execution_count": 14,
   "metadata": {},
   "outputs": [],
   "source": [
    "a = 0\n",
    "if a > 1:\n",
    "    print(\"Greater than 1!\")"
   ]
  },
  {
   "cell_type": "code",
   "execution_count": 20,
   "metadata": {},
   "outputs": [
    {
     "name": "stdout",
     "output_type": "stream",
     "text": [
      "Equals to 1\n"
     ]
    }
   ],
   "source": [
    "a = 1\n",
    "if a > 1:\n",
    "    print(\"Greater than 1!\")\n",
    "elif a < 1:\n",
    "    print(\"Lesser than 1\")\n",
    "else:\n",
    "    print(\"Equals to 1\")"
   ]
  },
  {
   "cell_type": "markdown",
   "metadata": {},
   "source": [
    "#### Assignment"
   ]
  },
  {
   "cell_type": "code",
   "execution_count": 32,
   "metadata": {},
   "outputs": [],
   "source": [
    "def sum_n(n):\n",
    "    \"\"\"\n",
    "    Sum of all natural number lesser than n\n",
    "    \n",
    "    number: int\n",
    "    Return: sum of...\n",
    "    \"\"\"\n",
    "    sum_nn = 0\n",
    "    for i in range(1, n + 1):\n",
    "        sum_nn = sum_nn + i\n",
    "    return sum_nn"
   ]
  },
  {
   "cell_type": "code",
   "execution_count": 33,
   "metadata": {},
   "outputs": [
    {
     "data": {
      "text/plain": [
       "15"
      ]
     },
     "execution_count": 33,
     "metadata": {},
     "output_type": "execute_result"
    }
   ],
   "source": [
    "a = sum_n(5)\n",
    "a"
   ]
  },
  {
   "cell_type": "markdown",
   "metadata": {},
   "source": [
    "#### Comprehension "
   ]
  },
  {
   "cell_type": "code",
   "execution_count": 40,
   "metadata": {},
   "outputs": [
    {
     "data": {
      "text/plain": [
       "{2, 4, 6, 8, 10}"
      ]
     },
     "execution_count": 40,
     "metadata": {},
     "output_type": "execute_result"
    }
   ],
   "source": [
    "{i for i in range(1, 11) if i%2==0}"
   ]
  },
  {
   "cell_type": "code",
   "execution_count": 42,
   "metadata": {},
   "outputs": [
    {
     "data": {
      "text/plain": [
       "[1, 2, 9, 4, 25, 6, 49, 8, 81, 10]"
      ]
     },
     "execution_count": 42,
     "metadata": {},
     "output_type": "execute_result"
    }
   ],
   "source": [
    "[i if i%2 == 0 else i**2 for i in range(1, 11)]"
   ]
  },
  {
   "cell_type": "code",
   "execution_count": null,
   "metadata": {},
   "outputs": [],
   "source": []
  }
 ],
 "metadata": {
  "kernelspec": {
   "display_name": "Python 3",
   "language": "python",
   "name": "python3"
  },
  "language_info": {
   "codemirror_mode": {
    "name": "ipython",
    "version": 3
   },
   "file_extension": ".py",
   "mimetype": "text/x-python",
   "name": "python",
   "nbconvert_exporter": "python",
   "pygments_lexer": "ipython3",
   "version": "3.6.12"
  }
 },
 "nbformat": 4,
 "nbformat_minor": 4
}
